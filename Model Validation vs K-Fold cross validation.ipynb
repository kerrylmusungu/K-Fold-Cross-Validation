{
 "cells": [
  {
   "cell_type": "code",
   "execution_count": 1,
   "id": "6957cb0f-56d0-48d3-a507-c3579463f2ee",
   "metadata": {},
   "outputs": [],
   "source": [
    "import numpy as np\n",
    "import pandas as pd"
   ]
  },
  {
   "cell_type": "code",
   "execution_count": 2,
   "id": "9fefaeb9-a70d-4c76-b066-1c97f8c4ea15",
   "metadata": {},
   "outputs": [],
   "source": [
    "from sklearn.linear_model import LogisticRegression\n",
    "from sklearn.svm import SVC\n",
    "from sklearn.ensemble import RandomForestClassifier\n",
    "from sklearn.tree import DecisionTreeRegressor\n",
    "from sklearn.datasets import load_digits\n",
    "\n",
    "digits = load_digits()"
   ]
  },
  {
   "cell_type": "code",
   "execution_count": 3,
   "id": "d709e120-74fa-4c72-ab23-5d5fa17c50f7",
   "metadata": {},
   "outputs": [],
   "source": [
    "from sklearn.model_selection import train_test_split\n",
    "X_train, X_test, y_train, y_test = train_test_split(digits.data, digits.target, test_size=0.3)"
   ]
  },
  {
   "cell_type": "code",
   "execution_count": 4,
   "id": "ee64a1eb-4726-4a29-9fa1-a9887b9907ff",
   "metadata": {},
   "outputs": [
    {
     "data": {
      "text/plain": [
       "0.975925925925926"
      ]
     },
     "execution_count": 4,
     "metadata": {},
     "output_type": "execute_result"
    }
   ],
   "source": [
    "lr = LogisticRegression(max_iter=3000) #lr is called a classifier which is an ML model\n",
    "lr.fit(X_train, y_train)\n",
    "lr.score(X_test, y_test)"
   ]
  },
  {
   "cell_type": "code",
   "execution_count": 5,
   "id": "c6f67981-e0be-42ea-8f35-6ae75bb9839f",
   "metadata": {},
   "outputs": [
    {
     "data": {
      "text/plain": [
       "0.9925925925925926"
      ]
     },
     "execution_count": 5,
     "metadata": {},
     "output_type": "execute_result"
    }
   ],
   "source": [
    "svm = SVC()\n",
    "svm.fit(X_train, y_train)\n",
    "svm.score(X_test, y_test)"
   ]
  },
  {
   "cell_type": "code",
   "execution_count": 6,
   "id": "40f7aaf9-82b6-43bc-8c99-19908b8a9293",
   "metadata": {},
   "outputs": [
    {
     "data": {
      "text/plain": [
       "0.975925925925926"
      ]
     },
     "execution_count": 6,
     "metadata": {},
     "output_type": "execute_result"
    }
   ],
   "source": [
    "rf = RandomForestClassifier(n_estimators=40)\n",
    "rf.fit(X_train, y_train)\n",
    "rf.score(X_test, y_test)"
   ]
  },
  {
   "cell_type": "code",
   "execution_count": 7,
   "id": "64e4dd02-2393-4fae-b787-6506513379c7",
   "metadata": {},
   "outputs": [
    {
     "data": {
      "text/plain": [
       "0.5739756164634706"
      ]
     },
     "execution_count": 7,
     "metadata": {},
     "output_type": "execute_result"
    }
   ],
   "source": [
    "dt = DecisionTreeRegressor()\n",
    "dt.fit(X_train, y_train)\n",
    "dt.score(X_test, y_test)"
   ]
  },
  {
   "cell_type": "markdown",
   "id": "61aa3fdf-6266-4d2d-af4b-e34df0ce749b",
   "metadata": {},
   "source": [
    "### Conclusion"
   ]
  },
  {
   "cell_type": "markdown",
   "id": "4e7b8307-cb30-412f-89f6-526dc166b6e9",
   "metadata": {},
   "source": [
    "\r\n",
    "Every time you run the split method (e.g., `X_train, X_test, y_train, y_test = train_test_split(digits.data, digits.target, test_size=0.3)`), the model's performance is affected, resulting in slightly different outcomes. This means that a model that was previously the best performer might rank second or vice versa. This variability occurs because the `train_test_split` function randomly generates a different training and testing dataset on each execution, unless a random seed is specifieand."
   ]
  },
  {
   "cell_type": "markdown",
   "id": "7f62fc9d-f381-472b-bafe-6c946445a101",
   "metadata": {},
   "source": [
    "### Let's try with K-Fold cross validation"
   ]
  },
  {
   "cell_type": "markdown",
   "id": "1ecec1f9-b625-4277-a55e-75f137831d7e",
   "metadata": {},
   "source": [
    "**K-Fold Cross-Validation Method:**  \r\n",
    "K-Fold cross-validation is a technique that provides train/test indices to split a dataset into train and test sets. It divides the dataset into *k* consecutive folds (without shuffling by default). Each fold is used once as a validation set, while the remaining *k - 1* folds are combined to form the training set.  \r\n",
    "\r\n",
    "For more details, refer to the official documentation: [scikit-learn KFold](https://scikit-learn.org/1.5/modules/generated/sklearn.model_selection.KFold.html).  "
   ]
  },
  {
   "cell_type": "code",
   "execution_count": 8,
   "id": "25e36196-7448-401d-8c94-0381b3f3cd55",
   "metadata": {},
   "outputs": [
    {
     "data": {
      "text/plain": [
       "KFold(n_splits=3, random_state=None, shuffle=False)"
      ]
     },
     "execution_count": 8,
     "metadata": {},
     "output_type": "execute_result"
    }
   ],
   "source": [
    "from sklearn.model_selection import KFold\n",
    "kf = KFold(n_splits=3)\n",
    "kf"
   ]
  },
  {
   "cell_type": "code",
   "execution_count": 9,
   "id": "aac00f23-3295-4abb-b711-0155382f08a9",
   "metadata": {},
   "outputs": [
    {
     "name": "stdout",
     "output_type": "stream",
     "text": [
      "[3 4 5 6 7 8] [0 1 2]\n",
      "[0 1 2 6 7 8] [3 4 5]\n",
      "[0 1 2 3 4 5] [6 7 8]\n"
     ]
    }
   ],
   "source": [
    "for train_index, text_index in kf.split([1,2,3,4,5,6,7,8,9]):\n",
    "    print(train_index, text_index)"
   ]
  },
  {
   "cell_type": "code",
   "execution_count": 10,
   "id": "088b2217-4842-41a8-a871-c9acf553bfec",
   "metadata": {},
   "outputs": [],
   "source": [
    "def get_score(model,X_train,X_test,y_train, y_test ):\n",
    "    model.fit(X_train, y_train)\n",
    "    return model.score(X_test, y_test)"
   ]
  },
  {
   "cell_type": "code",
   "execution_count": 11,
   "id": "6c540091-83f3-4fe1-b993-599ba2d33dfc",
   "metadata": {},
   "outputs": [
    {
     "data": {
      "text/plain": [
       "0.9925925925925926"
      ]
     },
     "execution_count": 11,
     "metadata": {},
     "output_type": "execute_result"
    }
   ],
   "source": [
    "get_score(SVC(),X_train,X_test,y_train, y_test)"
   ]
  },
  {
   "cell_type": "code",
   "execution_count": 12,
   "id": "286d4697-b5e4-4880-afd3-8a1aaaf92495",
   "metadata": {},
   "outputs": [
    {
     "data": {
      "text/plain": [
       "0.561829681914016"
      ]
     },
     "execution_count": 12,
     "metadata": {},
     "output_type": "execute_result"
    }
   ],
   "source": [
    "get_score(DecisionTreeRegressor(),X_train,X_test,y_train, y_test)"
   ]
  },
  {
   "cell_type": "markdown",
   "id": "9767b257-a99f-4df7-a7d8-209fb8ad5528",
   "metadata": {},
   "source": [
    "##### StratifiedKFold"
   ]
  },
  {
   "cell_type": "code",
   "execution_count": 13,
   "id": "aacf1287-c675-44c8-82cd-956162155f55",
   "metadata": {},
   "outputs": [],
   "source": [
    "from sklearn.model_selection import StratifiedKFold #categorize in an uniform way\n",
    "folds =  StratifiedKFold(n_splits=3)"
   ]
  },
  {
   "cell_type": "code",
   "execution_count": 14,
   "id": "7dc1c07f-853e-49d8-839d-b5fc14f015ef",
   "metadata": {},
   "outputs": [],
   "source": [
    "score_lr = []\n",
    "score_svm =[]\n",
    "score_rf = []\n",
    "score_dt = []\n",
    "\n",
    "#This `for` loop is intended solely to demonstrate the process.\n",
    "for train_index, test_index in kf.split(digits.data):\n",
    "    X_train,X_test,y_train, y_test = digits.data[train_index], digits.data[test_index], \\\n",
    "                                        digits.target[train_index], digits.target[test_index]\n",
    "    score_lr.append(get_score(LogisticRegression(max_iter=3000),X_train,X_test,y_train, y_test))\n",
    "    score_rf.append(get_score(RandomForestClassifier(n_estimators=40),X_train,X_test,y_train, y_test))\n",
    "    score_svm.append(get_score(SVC(),X_train,X_test,y_train, y_test))\n",
    "    score_dt.append(get_score(DecisionTreeRegressor(),X_train,X_test,y_train, y_test))"
   ]
  },
  {
   "cell_type": "code",
   "execution_count": 15,
   "id": "36e7e9a1-ce5f-4ab1-90e6-1a46d1993d7c",
   "metadata": {},
   "outputs": [
    {
     "data": {
      "text/plain": [
       "[0.9282136894824707, 0.9415692821368948, 0.9165275459098498]"
      ]
     },
     "execution_count": 15,
     "metadata": {},
     "output_type": "execute_result"
    }
   ],
   "source": [
    "score_lr"
   ]
  },
  {
   "cell_type": "code",
   "execution_count": 16,
   "id": "be878f47-847e-406b-b23f-16439bf1afa9",
   "metadata": {},
   "outputs": [
    {
     "data": {
      "text/plain": [
       "[0.9248747913188647, 0.9465776293823038, 0.9215358931552587]"
      ]
     },
     "execution_count": 16,
     "metadata": {},
     "output_type": "execute_result"
    }
   ],
   "source": [
    "score_rf"
   ]
  },
  {
   "cell_type": "code",
   "execution_count": 17,
   "id": "204ce2f5-f899-481f-8030-1e0fa4b2bd1f",
   "metadata": {},
   "outputs": [
    {
     "data": {
      "text/plain": [
       "[0.9666110183639399, 0.9816360601001669, 0.9549248747913188]"
      ]
     },
     "execution_count": 17,
     "metadata": {},
     "output_type": "execute_result"
    }
   ],
   "source": [
    "score_svm"
   ]
  },
  {
   "cell_type": "code",
   "execution_count": 18,
   "id": "2ed8ea2d-d651-48fb-837a-5dca5ea94a95",
   "metadata": {},
   "outputs": [
    {
     "data": {
      "text/plain": [
       "[0.5747334621481963, 0.5778952852943138, 0.5697220111514034]"
      ]
     },
     "execution_count": 18,
     "metadata": {},
     "output_type": "execute_result"
    }
   ],
   "source": [
    "score_dt"
   ]
  },
  {
   "cell_type": "code",
   "execution_count": 19,
   "id": "8cb43696-2207-4b92-a448-1efbd42d836d",
   "metadata": {},
   "outputs": [
    {
     "data": {
      "text/plain": [
       "0.9287701725097385"
      ]
     },
     "execution_count": 19,
     "metadata": {},
     "output_type": "execute_result"
    }
   ],
   "source": [
    "avg_score_lr = np.mean(score_lr)\n",
    "avg_score_lr"
   ]
  },
  {
   "cell_type": "code",
   "execution_count": 20,
   "id": "660a1c16-d65d-4fbb-8cb8-4752a99500bc",
   "metadata": {},
   "outputs": [
    {
     "data": {
      "text/plain": [
       "0.9309961046188091"
      ]
     },
     "execution_count": 20,
     "metadata": {},
     "output_type": "execute_result"
    }
   ],
   "source": [
    "avg_score_rf = np.mean(score_rf)\n",
    "avg_score_rf"
   ]
  },
  {
   "cell_type": "code",
   "execution_count": 21,
   "id": "cf9ef386-5c60-4795-bb6f-4d50988c0c1b",
   "metadata": {},
   "outputs": [
    {
     "data": {
      "text/plain": [
       "0.9677239844184752"
      ]
     },
     "execution_count": 21,
     "metadata": {},
     "output_type": "execute_result"
    }
   ],
   "source": [
    "avg_score_svm = np.mean(score_svm)\n",
    "avg_score_svm"
   ]
  },
  {
   "cell_type": "code",
   "execution_count": 22,
   "id": "54d7b9b1-8c26-47fc-8a97-d68368665d3f",
   "metadata": {},
   "outputs": [
    {
     "data": {
      "text/plain": [
       "0.5741169195313045"
      ]
     },
     "execution_count": 22,
     "metadata": {},
     "output_type": "execute_result"
    }
   ],
   "source": [
    "avg_score_dt = np.mean(score_dt)\n",
    "avg_score_dt"
   ]
  },
  {
   "cell_type": "code",
   "execution_count": 23,
   "id": "3fd72211-3881-4a8a-81a5-b1844bdfce7c",
   "metadata": {},
   "outputs": [
    {
     "data": {
      "text/plain": [
       "0.9677239844184752"
      ]
     },
     "execution_count": 23,
     "metadata": {},
     "output_type": "execute_result"
    }
   ],
   "source": [
    "best_model = max([avg_score_lr, avg_score_rf, avg_score_svm, avg_score_dt])\n",
    "best_model"
   ]
  },
  {
   "cell_type": "markdown",
   "id": "6459686c-24ce-460f-abbf-3729c383770b",
   "metadata": {},
   "source": [
    "##### The best-performing model is `avg_score_svm`, achieving an accuracy of 96.77%"
   ]
  },
  {
   "cell_type": "markdown",
   "id": "fcf03d11-3f64-4b34-876e-df35469a2be9",
   "metadata": {},
   "source": [
    "##### We can streamline and accelerate these steps by using the `sklearn` function `cross_val_score`."
   ]
  },
  {
   "cell_type": "code",
   "execution_count": 24,
   "id": "7ea82c99-6dfa-46cb-aee6-5573f60549ec",
   "metadata": {},
   "outputs": [],
   "source": [
    "from sklearn.model_selection import cross_val_score"
   ]
  },
  {
   "cell_type": "markdown",
   "id": "ddb10c72-7b21-4259-98c3-4034ea7ec67c",
   "metadata": {},
   "source": [
    "##### Instead of using a `for` loop, we can simply use:"
   ]
  },
  {
   "cell_type": "code",
   "execution_count": 25,
   "id": "e6c7af13-25e5-44c8-932e-4a047b727ad9",
   "metadata": {},
   "outputs": [
    {
     "data": {
      "text/plain": [
       "array([0.92487479, 0.93989983, 0.92320534])"
      ]
     },
     "execution_count": 25,
     "metadata": {},
     "output_type": "execute_result"
    }
   ],
   "source": [
    "cross_val_score(LogisticRegression(max_iter=30000),digits.data, digits.target, cv=3)"
   ]
  },
  {
   "cell_type": "code",
   "execution_count": 26,
   "id": "f0eb543c-7f00-42a3-8ae4-0c31bf60995a",
   "metadata": {},
   "outputs": [
    {
     "data": {
      "text/plain": [
       "array([0.91986644, 0.93989983, 0.92654424])"
      ]
     },
     "execution_count": 26,
     "metadata": {},
     "output_type": "execute_result"
    }
   ],
   "source": [
    "cross_val_score(RandomForestClassifier(n_estimators=40),digits.data, digits.target, cv=3)"
   ]
  },
  {
   "cell_type": "code",
   "execution_count": 27,
   "id": "cf7c01db-511a-417c-8d60-d6f4994d80f2",
   "metadata": {},
   "outputs": [
    {
     "data": {
      "text/plain": [
       "array([0.96494157, 0.97996661, 0.96494157])"
      ]
     },
     "execution_count": 27,
     "metadata": {},
     "output_type": "execute_result"
    }
   ],
   "source": [
    "cross_val_score(SVC(),digits.data, digits.target, cv=3)"
   ]
  },
  {
   "cell_type": "code",
   "execution_count": 28,
   "id": "b1bc6973-3c26-42e1-92cd-c32fdcdc107a",
   "metadata": {},
   "outputs": [
    {
     "data": {
      "text/plain": [
       "array([0.58600947, 0.62556541, 0.57630056])"
      ]
     },
     "execution_count": 28,
     "metadata": {},
     "output_type": "execute_result"
    }
   ],
   "source": [
    "cross_val_score(DecisionTreeRegressor(),digits.data, digits.target, cv=3)"
   ]
  },
  {
   "cell_type": "code",
   "execution_count": 30,
   "id": "e5f14a1b-1eef-482a-be86-b4b526cc1a0a",
   "metadata": {},
   "outputs": [
    {
     "name": "stdout",
     "output_type": "stream",
     "text": [
      "LogisticRegression 0.9293266555370061\n",
      "RandomForestClassifier 0.9298831385642737\n",
      "SVC 0.9699499165275459\n",
      "DecisionTreeRegressor 0.5658768875205001\n"
     ]
    }
   ],
   "source": [
    "##Let's calculate the average \n",
    "print('LogisticRegression',np.mean(cross_val_score(LogisticRegression(max_iter=30000),digits.data, digits.target, cv=3)))\n",
    "print('RandomForestClassifier',np.mean(cross_val_score(RandomForestClassifier(n_estimators=40),digits.data, digits.target, cv=3)))\n",
    "print('SVC',np.mean(cross_val_score(SVC(),digits.data, digits.target, cv=3)))\n",
    "print('DecisionTreeRegressor', np.mean(cross_val_score(DecisionTreeRegressor(),digits.data, digits.target, cv=3)))"
   ]
  },
  {
   "cell_type": "markdown",
   "id": "294dcbe0-d321-4060-84f1-387add644599",
   "metadata": {},
   "source": [
    "##### Now we can make the same conclusion The best-performing model is `avg_score_svm`, achieving an accuracy of 96.99%"
   ]
  },
  {
   "cell_type": "markdown",
   "id": "503d0d87-37a4-4287-9982-ccd91058dadd",
   "metadata": {},
   "source": [
    "This project is inspired by the following YouTube video: [How to Evaluate Models using Cross-Validation](https://www.youtube.com/watch?v=gJo0uNL-5Qw)."
   ]
  },
  {
   "cell_type": "code",
   "execution_count": null,
   "id": "9e1ba67b-178d-48a6-ae33-b3bdcec7fb9f",
   "metadata": {},
   "outputs": [],
   "source": []
  }
 ],
 "metadata": {
  "kernelspec": {
   "display_name": "Python 3 (ipykernel)",
   "language": "python",
   "name": "python3"
  },
  "language_info": {
   "codemirror_mode": {
    "name": "ipython",
    "version": 3
   },
   "file_extension": ".py",
   "mimetype": "text/x-python",
   "name": "python",
   "nbconvert_exporter": "python",
   "pygments_lexer": "ipython3",
   "version": "3.11.7"
  }
 },
 "nbformat": 4,
 "nbformat_minor": 5
}
